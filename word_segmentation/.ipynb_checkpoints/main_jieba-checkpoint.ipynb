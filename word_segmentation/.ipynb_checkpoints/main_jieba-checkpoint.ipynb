{
 "cells": [
  {
   "cell_type": "markdown",
   "id": "7ad01b9d-b5e8-450c-9204-49d962ed15c1",
   "metadata": {},
   "source": [
    "# 结巴分词实践"
   ]
  },
  {
   "cell_type": "markdown",
   "id": "b542b2c7-1529-4836-8e47-c0903e781686",
   "metadata": {},
   "source": [
    "## 结巴分词的三种模式"
   ]
  },
  {
   "cell_type": "markdown",
   "id": "caaddb6e-2521-4572-a2bb-f07cb59dfbd6",
   "metadata": {},
   "source": [
    "### 精确模式"
   ]
  },
  {
   "cell_type": "code",
   "execution_count": 11,
   "id": "58a8df4c-da7b-4074-9c88-3fff7a09010e",
   "metadata": {},
   "outputs": [
    {
     "name": "stdout",
     "output_type": "stream",
     "text": [
      "Default Mode: 我/ 来到/ 北京/ 清华大学\n"
     ]
    }
   ],
   "source": [
    "import jieba\n",
    "seg_list = jieba.cut(\"我来到北京清华大学\", cut_all=False)\n",
    "print(\"Default Mode: \" + \"/ \".join(seg_list))  # 精确模式"
   ]
  },
  {
   "cell_type": "markdown",
   "id": "84debb63-588d-4dad-a71e-f54260fc1786",
   "metadata": {},
   "source": [
    "### 全模式"
   ]
  },
  {
   "cell_type": "code",
   "execution_count": 10,
   "id": "55f54c73-30f2-43fe-95f0-ea383a7f87ff",
   "metadata": {},
   "outputs": [
    {
     "name": "stdout",
     "output_type": "stream",
     "text": [
      "Full Mode: 我/ 来到/ 北京/ 清华/ 清华大学/ 华大/ 大学\n"
     ]
    }
   ],
   "source": [
    "seg_list = jieba.cut(\"我来到北京清华大学\", cut_all=True)\n",
    "print(\"Full Mode: \" + \"/ \".join(seg_list))  # 全模式"
   ]
  },
  {
   "cell_type": "markdown",
   "id": "21e8a4f8-e160-44ab-b8e9-58f230de5748",
   "metadata": {},
   "source": [
    "### 搜索引擎模式"
   ]
  },
  {
   "cell_type": "code",
   "execution_count": 9,
   "id": "7a0da8ce-f2e4-4510-ade2-7a2ef18408c5",
   "metadata": {},
   "outputs": [
    {
     "name": "stdout",
     "output_type": "stream",
     "text": [
      "小明, 硕士, 毕业, 于, 中国, 科学, 学院, 科学院, 中国科学院, 计算, 计算所, ，, 后, 在, 日本, 京都, 大学, 日本京都大学, 深造\n"
     ]
    }
   ],
   "source": [
    "seg_list = jieba.cut_for_search(\"小明硕士毕业于中国科学院计算所，后在日本京都大学深造\")  # 搜索引擎模式\n",
    "print(\", \".join(seg_list))"
   ]
  },
  {
   "cell_type": "markdown",
   "id": "a0f16b4a-642a-4676-a208-8b92ccc29ccd",
   "metadata": {},
   "source": [
    "## 载入词典"
   ]
  },
  {
   "cell_type": "code",
   "execution_count": 13,
   "id": "89bde688-8927-4c9b-9eb4-80c3761e3f12",
   "metadata": {},
   "outputs": [
    {
     "name": "stdout",
     "output_type": "stream",
     "text": [
      "Default Mode: 黄梓恒/ 即将/ 是/ 自然语言/ 处理/ 方面/ 的/ 高手\n"
     ]
    }
   ],
   "source": [
    "jieba.load_userdict(\"userdict.txt\")\n",
    "seg_list = jieba.cut(\"黄梓恒即将是自然语言处理方面的高手\", cut_all=False, HMM=False) \n",
    "print(\"Default Mode: \"+ \"/ \".join(seg_list))"
   ]
  },
  {
   "cell_type": "code",
   "execution_count": 15,
   "id": "d95706ee-8ac5-4c54-bd3a-445ed99a322f",
   "metadata": {},
   "outputs": [
    {
     "name": "stdout",
     "output_type": "stream",
     "text": [
      "重点 1.0\n",
      "大学 0.9635631335578456\n",
      "国家 0.9273412563201143\n",
      "河北省 0.6235965850264276\n",
      "共建 0.5433775103953393\n"
     ]
    }
   ],
   "source": [
    "import jieba.analyse\n",
    "s = \"燕山大学是河北省人民政府、教育部、工业和信息化部、国家国防科技工业局四方共建的全国重点大学，河北省重点支持的国家一流大学和世界一流学科建设高校，北京高科大学联盟成员。\"\n",
    "for x, w in jieba.analyse.textrank(s, withWeight=True,topK=5):\n",
    "    print('%s %s' % (x, w))"
   ]
  }
 ],
 "metadata": {
  "kernelspec": {
   "display_name": "Python 3 (ipykernel)",
   "language": "python",
   "name": "python3"
  },
  "language_info": {
   "codemirror_mode": {
    "name": "ipython",
    "version": 3
   },
   "file_extension": ".py",
   "mimetype": "text/x-python",
   "name": "python",
   "nbconvert_exporter": "python",
   "pygments_lexer": "ipython3",
   "version": "3.9.21"
  }
 },
 "nbformat": 4,
 "nbformat_minor": 5
}
