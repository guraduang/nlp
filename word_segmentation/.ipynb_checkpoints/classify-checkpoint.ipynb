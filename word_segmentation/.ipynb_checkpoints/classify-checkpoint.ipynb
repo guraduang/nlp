{
 "cells": [
  {
   "cell_type": "code",
   "execution_count": 1,
   "id": "57ec3a14-7edd-4bc0-a0e4-c9630e5d23bb",
   "metadata": {},
   "outputs": [
    {
     "name": "stderr",
     "output_type": "stream",
     "text": [
      "Building prefix dict from the default dictionary ...\n",
      "Loading model from cache C:\\Users\\DELL\\AppData\\Local\\Temp\\jieba.cache\n",
      "Loading model cost 0.575 seconds.\n",
      "Prefix dict has been built successfully.\n"
     ]
    },
    {
     "name": "stdout",
     "output_type": "stream",
     "text": [
      "151.txt分类情况:垃圾邮件\n",
      "152.txt分类情况:垃圾邮件\n",
      "153.txt分类情况:垃圾邮件\n",
      "154.txt分类情况:垃圾邮件\n",
      "155.txt分类情况:普通邮件\n"
     ]
    }
   ],
   "source": [
    "import re\n",
    "import os\n",
    "from jieba import cut\n",
    "from itertools import chain\n",
    "from collections import Counter\n",
    "import numpy as np\n",
    "from sklearn.naive_bayes import MultinomialNB"
   ]
  },
  {
   "cell_type": "code",
   "execution_count": null,
   "id": "7280f8d7-1eab-433c-b785-0a507f5b28b1",
   "metadata": {},
   "outputs": [],
   "source": [
    "def get_words(filename):\n",
    "    \"\"\"读取文本并过滤无效字符和长度为1的词\"\"\"\n",
    "    words = []\n",
    "    with open(filename, 'r', encoding='utf-8') as fr:\n",
    "        for line in fr:\n",
    "            line = line.strip()\n",
    "            # 过滤无效字符\n",
    "            line = re.sub(r'[.【】0-9、——。，！~\\*]', '', line)\n",
    "            # 使用jieba.cut()方法对文本切词处理\n",
    "            line = cut(line)\n",
    "            # 过滤长度为1的词\n",
    "            line = filter(lambda word: len(word) > 1, line)\n",
    "            words.extend(line)\n",
    "    return words"
   ]
  },
  {
   "cell_type": "code",
   "execution_count": null,
   "id": "13cc6926-9c5f-44b2-9798-4898f2d19545",
   "metadata": {},
   "outputs": [],
   "source": [
    "all_words = []\n",
    "def get_top_words(top_num):\n",
    "    \"\"\"遍历邮件建立词库后返回出现次数最多的词\"\"\"\n",
    "    filename_list = ['files/{}.txt'.format(i) for i in range(151)]\n",
    "    # 遍历邮件建立词库\n",
    "    for filename in filename_list:\n",
    "        all_words.append(get_words(filename))\n",
    "    # itertools.chain()把all_words内的所有列表组合成一个列表\n",
    "    # collections.Counter()统计词个数\n",
    "    freq = Counter(chain(*all_words))\n",
    "    return [i[0] for i in freq.most_common(top_num)]\n",
    "\n",
    "top_words = get_top_words(100)"
   ]
  },
  {
   "cell_type": "code",
   "execution_count": null,
   "id": "932ac6f3-17e4-4c8d-9056-d803c11706bc",
   "metadata": {},
   "outputs": [],
   "source": [
    "vector = []\n",
    "for words in all_words:\n",
    "    '''\n",
    "    words:\n",
    "    ['国际', 'SCI', '期刊', '材料', '结构力学', '工程', '杂志', '国际', 'SCI', '期刊', '先进', '材料科学',\n",
    "    '材料', '工程', '杂志', '国际', 'SCI', '期刊', '图像处理', '模式识别', '人工智能', '工程', '杂志', '国际',\n",
    "    'SCI', '期刊', '数据', '信息', '科学杂志', '国际', 'SCI', '期刊', '机器', '学习', '神经网络', '人工智能',\n",
    "    '杂志', '国际', 'SCI', '期刊', '能源', '环境', '生态', '温度', '管理', '结合', '信息学', '杂志', '期刊',\n",
    "    '网址', '论文', '篇幅', '控制', '以上', '英文', '字数', '以上', '文章', '撰写', '语言', '英语', '论文',\n",
    "    '研究', '内容', '详实', '方法', '正确', '理论性', '实践性', '科学性', '前沿性', '投稿', '初稿', '需要',\n",
    "    '排版', '录用', '提供', '模版', '排版', '写作', '要求', '正规', '期刊', '正规', '操作', '大牛', '出版社',\n",
    "    '期刊', '期刊', '质量', '放心', '检索', '稳定', '邀请函', '推荐', '身边', '老师', '朋友', '打扰', '请谅解']\n",
    "    '''\n",
    "    word_map = list(map(lambda word: words.count(word), top_words))\n",
    "    '''\n",
    "    word_map:\n",
    "    [0, 0, 0, 2, 0, 0, 0, 0, 0, 0, 0, 0, 0, 0, 1, 1, 0, 0, 0, 0, 1, 0, 0, 0, 0, 0, 0, 0, 0, 0,\n",
    "    0, 0, 0, 0, 0, 0, 0, 0, 0, 0, 0, 1, 0, 0, 0, 0, 0, 0, 1, 1, 0, 0, 0, 0, 0, 0, 0, 1, 0, 0,\n",
    "    10, 0, 0, 0, 0, 0, 0, 0, 0, 0, 0, 0, 0, 0, 0, 0, 0, 0, 0, 0, 0, 0, 0, 0, 2, 0, 0, 0, 0, 0,\n",
    "    0, 1, 0, 0, 0, 0, 0, 0, 0, 0]\n",
    "    '''\n",
    "    vector.append(word_map)"
   ]
  },
  {
   "cell_type": "code",
   "execution_count": null,
   "id": "0cc12582-bcb0-44ec-8b17-a4d252ab7d0b",
   "metadata": {},
   "outputs": [],
   "source": [
    "def predict(filename):\n",
    "    \"\"\"对未知邮件分类\"\"\"\n",
    "    # 构建未知邮件的词向量\n",
    "    words = get_words(filename)\n",
    "    current_vector = np.array(\n",
    "        tuple(map(lambda word: words.count(word), top_words)))\n",
    "    # 预测结果\n",
    "    result = model.predict(current_vector.reshape(1, -1))\n",
    "    return '垃圾邮件' if result == 1 else '普通邮件'"
   ]
  },
  {
   "cell_type": "code",
   "execution_count": 3,
   "id": "ac6795fe-36de-46b7-9644-6ef754d5025b",
   "metadata": {},
   "outputs": [
    {
     "name": "stdout",
     "output_type": "stream",
     "text": [
      "151.txt分类情况:垃圾邮件\n",
      "152.txt分类情况:垃圾邮件\n",
      "153.txt分类情况:垃圾邮件\n",
      "154.txt分类情况:垃圾邮件\n",
      "155.txt分类情况:普通邮件\n"
     ]
    }
   ],
   "source": [
    "print('151.txt分类情况:{}'.format(predict('files/151.txt')))\n",
    "print('152.txt分类情况:{}'.format(predict('files/152.txt')))\n",
    "print('153.txt分类情况:{}'.format(predict('files/153.txt')))\n",
    "print('154.txt分类情况:{}'.format(predict('files/154.txt')))\n",
    "print('155.txt分类情况:{}'.format(predict('files/155.txt')))"
   ]
  },
  {
   "cell_type": "code",
   "execution_count": null,
   "id": "b5efe611-57c2-47e3-a3f6-db57b85a49ef",
   "metadata": {},
   "outputs": [],
   "source": [
    "from sklearn.feature_extraction.text import TfidfVectorizer\n",
    "               \n",
    "#利用函数获取文档的TFIDF值\n",
    "print(\"计算TF-IDF权重\")       \n",
    "transformer = TfidfVectorizer()\n",
    "X_train = transformer.fit_transform(train_document)\n",
    "X_test = transformer.transform(test_document)\n",
    "#观察各个值\n",
    "#（1）统计词列表\n",
    "word_list = transformer.get_feature_names()  # 所有统计的词\n",
    "print(\"统计词列表\")\n",
    "print(word_list)\n",
    "#（2）统计词字典形式\n",
    "print(\"统计词字典形式\")\n",
    "print(transformer.fit(test_document).vocabulary_)\n",
    "#（3）TFIDF权重\n",
    "weight_train = X_train.toarray()\n",
    "weight_test = X_test.toarray()\n",
    "print(\"train TFIDF权重\")\n",
    "print(weight_train)\n",
    "print(\"test TFIDF权重\")\n",
    "print(weight_test)    \n",
    "#(4)查看逆文档率（IDF）\n",
    "print(\"train idf\")\n",
    "print(transformer.fit(train_document).idf_) "
   ]
  }
 ],
 "metadata": {
  "kernelspec": {
   "display_name": "Python 3 (ipykernel)",
   "language": "python",
   "name": "python3"
  },
  "language_info": {
   "codemirror_mode": {
    "name": "ipython",
    "version": 3
   },
   "file_extension": ".py",
   "mimetype": "text/x-python",
   "name": "python",
   "nbconvert_exporter": "python",
   "pygments_lexer": "ipython3",
   "version": "3.9.21"
  }
 },
 "nbformat": 4,
 "nbformat_minor": 5
}
